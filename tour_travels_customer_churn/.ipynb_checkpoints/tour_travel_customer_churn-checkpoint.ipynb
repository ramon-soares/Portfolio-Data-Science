{
 "cells": [
  {
   "cell_type": "markdown",
   "id": "b36c3ed6",
   "metadata": {},
   "source": [
    "# Tour & Travels Customer Churn\n",
    "___\n",
    "___"
   ]
  },
  {
   "cell_type": "markdown",
   "id": "b95104b6",
   "metadata": {},
   "source": [
    "### Sobre o 'Churn'"
   ]
  },
  {
   "cell_type": "markdown",
   "id": "c71884d9",
   "metadata": {},
   "source": [
    "  Churn é definido em termos comerciais como \"quando um cliente cancela uma assinatura de um serviço que ele estava fazendo uso.  \n",
    "  Então temos que o 'Churn Prediction' está essencialmente prevendo quais clientes têm maior probabilidade de cancelar uma assinatura, ou seja, \"deixar uma empresa\" com base no uso do serviço.  \n",
    "  Do ponto de vista da empresa, é importante ter essas informações, uma vez que conquistar novos clientes muitas vezes é árduo e mais caro do que reter os antigos."
   ]
  },
  {
   "cell_type": "markdown",
   "id": "aabdefa8",
   "metadata": {},
   "source": [
    "### Sobre o dataset utilizado"
   ]
  },
  {
   "cell_type": "markdown",
   "id": "9fbd5277",
   "metadata": {},
   "source": [
    "Uma empresa de turismo e viagens deseja prever se um cliente irá se desligar ou não com base nos indicadores fornecidos.\n",
    "* Disponível em: https://www.kaggle.com/datasets/tejashvi14/tour-travels-customer-churn-prediction/code"
   ]
  },
  {
   "cell_type": "markdown",
   "id": "1be94b65",
   "metadata": {},
   "source": [
    "### Sobre as colunas do dataset"
   ]
  },
  {
   "cell_type": "markdown",
   "id": "4432280d",
   "metadata": {},
   "source": [
    "    Age                 ->  Idade do usuário;\n",
    "    FrequentFlyer       ->  Se o cliente faz voos frequentes;\n",
    "    AnnualIncomeClass   ->  Classe de renda anual do usuário;\n",
    "    ServicesOpted       ->  Número de vezes que os serviços foram escolhidos nos últimos \n",
    "                            anos;\n",
    "    AccountSynced       ->  Se a conta corporativa do usuário foi sincronizada com suas\n",
    "                            mídias sociais;\n",
    "    BookedHotelOrNot    ->  Se o cliente reserva hospedagens/hotéis usando os serviços \n",
    "                            da empresa;\n",
    "    Target              ->  1- Cliente cancelou | 0- Cliente não cancelou."
   ]
  },
  {
   "cell_type": "markdown",
   "id": "189df212",
   "metadata": {},
   "source": [
    "## Bibliotecas utilizadas\n",
    "___"
   ]
  },
  {
   "cell_type": "code",
   "execution_count": 1,
   "id": "652a4bbb",
   "metadata": {},
   "outputs": [],
   "source": [
    "# Bibliotecas padrão\n",
    "import numpy as np\n",
    "import pandas as pd\n",
    "import seaborn as sns\n",
    "import matplotlib.pyplot as plt\n",
    "from matplotlib.colors import ListedColormap\n",
    "from sklearn import tree"
   ]
  },
  {
   "cell_type": "code",
   "execution_count": 2,
   "id": "9a05af08",
   "metadata": {},
   "outputs": [],
   "source": [
    "# Algoritmos de classificação\n",
    "from sklearn.ensemble import AdaBoostClassifier\n",
    "from sklearn.tree import DecisionTreeClassifier\n",
    "from sklearn.ensemble import ExtraTreesClassifier\n",
    "from sklearn.naive_bayes import GaussianNB\n",
    "from sklearn.ensemble import GradientBoostingClassifier\n",
    "from sklearn.neighbors import KNeighborsClassifier\n",
    "from sklearn.linear_model import LogisticRegression\n",
    "from sklearn.ensemble import RandomForestClassifier\n",
    "from sklearn.svm import SVC\n",
    "\n",
    "# Pré-processamento\n",
    "from sklearn.model_selection import train_test_split, GridSearchCV\n",
    "from sklearn.pipeline import Pipeline"
   ]
  },
  {
   "cell_type": "code",
   "execution_count": 3,
   "id": "46d0be61",
   "metadata": {},
   "outputs": [],
   "source": [
    "# Métricas de avaliação\n",
    "from sklearn.metrics import f1_score\n",
    "from sklearn.metrics import classification_report\n",
    "from sklearn.metrics import confusion_matrix, ConfusionMatrixDisplay"
   ]
  },
  {
   "cell_type": "code",
   "execution_count": 4,
   "id": "dd858e60",
   "metadata": {},
   "outputs": [],
   "source": [
    "# Ignorar warnings\n",
    "import warnings\n",
    "warnings.filterwarnings('ignore')"
   ]
  },
  {
   "cell_type": "code",
   "execution_count": 5,
   "id": "c7865088",
   "metadata": {},
   "outputs": [],
   "source": [
    "# Constantes\n",
    "RANDOM_STATE = 42\n",
    "CUSTOM_PALETTE_0 = ['#F05454', '#30475E', '#222831', '#F7A9A8']\n",
    "CUSTOM_PALETTE_1 = ['#222831', '#30475E', '#6c757d', '#F7A9A8', '#E88C93', '#F05454']\n",
    "CUSTOM_PALETTE_2 = ['#d96e7d', '#e88c93', '#f7a9a8', '#1b3b6f', '#201e5b', '#240046', \n",
    "                    '#763fa3', '#c77dff', '#e0aaff']"
   ]
  },
  {
   "cell_type": "code",
   "execution_count": 6,
   "id": "e7be0b7d",
   "metadata": {},
   "outputs": [],
   "source": [
    "# Configurações\n",
    "%matplotlib inline\n",
    "sns.set_theme(style='darkgrid', palette=CUSTOM_PALETTE_0, font_scale=1.1)"
   ]
  },
  {
   "cell_type": "markdown",
   "id": "7dfd94f3",
   "metadata": {},
   "source": [
    "## Importação e tratamento dos dados\n",
    "___"
   ]
  },
  {
   "cell_type": "markdown",
   "id": "54410c49",
   "metadata": {},
   "source": [
    "###### Importar csv e colocá-lo como DataFrame"
   ]
  },
  {
   "cell_type": "code",
   "execution_count": 7,
   "id": "af360aa5",
   "metadata": {},
   "outputs": [
    {
     "data": {
      "text/html": [
       "<div>\n",
       "<style scoped>\n",
       "    .dataframe tbody tr th:only-of-type {\n",
       "        vertical-align: middle;\n",
       "    }\n",
       "\n",
       "    .dataframe tbody tr th {\n",
       "        vertical-align: top;\n",
       "    }\n",
       "\n",
       "    .dataframe thead th {\n",
       "        text-align: right;\n",
       "    }\n",
       "</style>\n",
       "<table border=\"1\" class=\"dataframe\">\n",
       "  <thead>\n",
       "    <tr style=\"text-align: right;\">\n",
       "      <th></th>\n",
       "      <th>Age</th>\n",
       "      <th>FrequentFlyer</th>\n",
       "      <th>AnnualIncomeClass</th>\n",
       "      <th>ServicesOpted</th>\n",
       "      <th>AccountSyncedToSocialMedia</th>\n",
       "      <th>BookedHotelOrNot</th>\n",
       "      <th>Target</th>\n",
       "    </tr>\n",
       "  </thead>\n",
       "  <tbody>\n",
       "    <tr>\n",
       "      <th>0</th>\n",
       "      <td>34</td>\n",
       "      <td>No</td>\n",
       "      <td>Middle Income</td>\n",
       "      <td>6</td>\n",
       "      <td>No</td>\n",
       "      <td>Yes</td>\n",
       "      <td>0</td>\n",
       "    </tr>\n",
       "    <tr>\n",
       "      <th>1</th>\n",
       "      <td>34</td>\n",
       "      <td>Yes</td>\n",
       "      <td>Low Income</td>\n",
       "      <td>5</td>\n",
       "      <td>Yes</td>\n",
       "      <td>No</td>\n",
       "      <td>1</td>\n",
       "    </tr>\n",
       "    <tr>\n",
       "      <th>2</th>\n",
       "      <td>37</td>\n",
       "      <td>No</td>\n",
       "      <td>Middle Income</td>\n",
       "      <td>3</td>\n",
       "      <td>Yes</td>\n",
       "      <td>No</td>\n",
       "      <td>0</td>\n",
       "    </tr>\n",
       "    <tr>\n",
       "      <th>3</th>\n",
       "      <td>30</td>\n",
       "      <td>No</td>\n",
       "      <td>Middle Income</td>\n",
       "      <td>2</td>\n",
       "      <td>No</td>\n",
       "      <td>No</td>\n",
       "      <td>0</td>\n",
       "    </tr>\n",
       "    <tr>\n",
       "      <th>4</th>\n",
       "      <td>30</td>\n",
       "      <td>No</td>\n",
       "      <td>Low Income</td>\n",
       "      <td>1</td>\n",
       "      <td>No</td>\n",
       "      <td>No</td>\n",
       "      <td>0</td>\n",
       "    </tr>\n",
       "  </tbody>\n",
       "</table>\n",
       "</div>"
      ],
      "text/plain": [
       "   Age FrequentFlyer AnnualIncomeClass  ServicesOpted  \\\n",
       "0   34            No     Middle Income              6   \n",
       "1   34           Yes        Low Income              5   \n",
       "2   37            No     Middle Income              3   \n",
       "3   30            No     Middle Income              2   \n",
       "4   30            No        Low Income              1   \n",
       "\n",
       "  AccountSyncedToSocialMedia BookedHotelOrNot  Target  \n",
       "0                         No              Yes       0  \n",
       "1                        Yes               No       1  \n",
       "2                        Yes               No       0  \n",
       "3                         No               No       0  \n",
       "4                         No               No       0  "
      ]
     },
     "execution_count": 7,
     "metadata": {},
     "output_type": "execute_result"
    }
   ],
   "source": [
    "data = pd.read_csv('data/Customertravel.csv')\n",
    "data.head()"
   ]
  },
  {
   "cell_type": "markdown",
   "id": "3cf7c05a",
   "metadata": {},
   "source": [
    "###### Informações iniciais sobre o dataset"
   ]
  },
  {
   "cell_type": "code",
   "execution_count": 8,
   "id": "5416603c",
   "metadata": {},
   "outputs": [
    {
     "name": "stdout",
     "output_type": "stream",
     "text": [
      "<class 'pandas.core.frame.DataFrame'>\n",
      "RangeIndex: 954 entries, 0 to 953\n",
      "Data columns (total 7 columns):\n",
      " #   Column                      Non-Null Count  Dtype \n",
      "---  ------                      --------------  ----- \n",
      " 0   Age                         954 non-null    int64 \n",
      " 1   FrequentFlyer               954 non-null    object\n",
      " 2   AnnualIncomeClass           954 non-null    object\n",
      " 3   ServicesOpted               954 non-null    int64 \n",
      " 4   AccountSyncedToSocialMedia  954 non-null    object\n",
      " 5   BookedHotelOrNot            954 non-null    object\n",
      " 6   Target                      954 non-null    int64 \n",
      "dtypes: int64(3), object(4)\n",
      "memory usage: 52.3+ KB\n"
     ]
    }
   ],
   "source": [
    "data.info()"
   ]
  },
  {
   "cell_type": "markdown",
   "id": "3db1ee45",
   "metadata": {},
   "source": [
    "###### Descrições iniciais sobre o dataset"
   ]
  },
  {
   "cell_type": "code",
   "execution_count": 9,
   "id": "24ef3c78",
   "metadata": {},
   "outputs": [
    {
     "data": {
      "text/html": [
       "<div>\n",
       "<style scoped>\n",
       "    .dataframe tbody tr th:only-of-type {\n",
       "        vertical-align: middle;\n",
       "    }\n",
       "\n",
       "    .dataframe tbody tr th {\n",
       "        vertical-align: top;\n",
       "    }\n",
       "\n",
       "    .dataframe thead th {\n",
       "        text-align: right;\n",
       "    }\n",
       "</style>\n",
       "<table border=\"1\" class=\"dataframe\">\n",
       "  <thead>\n",
       "    <tr style=\"text-align: right;\">\n",
       "      <th></th>\n",
       "      <th>Age</th>\n",
       "      <th>ServicesOpted</th>\n",
       "      <th>Target</th>\n",
       "    </tr>\n",
       "  </thead>\n",
       "  <tbody>\n",
       "    <tr>\n",
       "      <th>count</th>\n",
       "      <td>954.000000</td>\n",
       "      <td>954.000000</td>\n",
       "      <td>954.000000</td>\n",
       "    </tr>\n",
       "    <tr>\n",
       "      <th>mean</th>\n",
       "      <td>32.109015</td>\n",
       "      <td>2.437107</td>\n",
       "      <td>0.234801</td>\n",
       "    </tr>\n",
       "    <tr>\n",
       "      <th>std</th>\n",
       "      <td>3.337388</td>\n",
       "      <td>1.606233</td>\n",
       "      <td>0.424097</td>\n",
       "    </tr>\n",
       "    <tr>\n",
       "      <th>min</th>\n",
       "      <td>27.000000</td>\n",
       "      <td>1.000000</td>\n",
       "      <td>0.000000</td>\n",
       "    </tr>\n",
       "    <tr>\n",
       "      <th>25%</th>\n",
       "      <td>30.000000</td>\n",
       "      <td>1.000000</td>\n",
       "      <td>0.000000</td>\n",
       "    </tr>\n",
       "    <tr>\n",
       "      <th>50%</th>\n",
       "      <td>31.000000</td>\n",
       "      <td>2.000000</td>\n",
       "      <td>0.000000</td>\n",
       "    </tr>\n",
       "    <tr>\n",
       "      <th>75%</th>\n",
       "      <td>35.000000</td>\n",
       "      <td>4.000000</td>\n",
       "      <td>0.000000</td>\n",
       "    </tr>\n",
       "    <tr>\n",
       "      <th>max</th>\n",
       "      <td>38.000000</td>\n",
       "      <td>6.000000</td>\n",
       "      <td>1.000000</td>\n",
       "    </tr>\n",
       "  </tbody>\n",
       "</table>\n",
       "</div>"
      ],
      "text/plain": [
       "              Age  ServicesOpted      Target\n",
       "count  954.000000     954.000000  954.000000\n",
       "mean    32.109015       2.437107    0.234801\n",
       "std      3.337388       1.606233    0.424097\n",
       "min     27.000000       1.000000    0.000000\n",
       "25%     30.000000       1.000000    0.000000\n",
       "50%     31.000000       2.000000    0.000000\n",
       "75%     35.000000       4.000000    0.000000\n",
       "max     38.000000       6.000000    1.000000"
      ]
     },
     "execution_count": 9,
     "metadata": {},
     "output_type": "execute_result"
    }
   ],
   "source": [
    "data.describe()"
   ]
  },
  {
   "cell_type": "markdown",
   "id": "dc1a75a0",
   "metadata": {},
   "source": [
    "###### Alterar nome das colunas do dataset"
   ]
  },
  {
   "cell_type": "code",
   "execution_count": 10,
   "id": "313f4507",
   "metadata": {},
   "outputs": [
    {
     "data": {
      "text/html": [
       "<div>\n",
       "<style scoped>\n",
       "    .dataframe tbody tr th:only-of-type {\n",
       "        vertical-align: middle;\n",
       "    }\n",
       "\n",
       "    .dataframe tbody tr th {\n",
       "        vertical-align: top;\n",
       "    }\n",
       "\n",
       "    .dataframe thead th {\n",
       "        text-align: right;\n",
       "    }\n",
       "</style>\n",
       "<table border=\"1\" class=\"dataframe\">\n",
       "  <thead>\n",
       "    <tr style=\"text-align: right;\">\n",
       "      <th></th>\n",
       "      <th>age</th>\n",
       "      <th>frequent_flyer</th>\n",
       "      <th>annual_income_class</th>\n",
       "      <th>services_opted</th>\n",
       "      <th>account_synced</th>\n",
       "      <th>booked_hotel</th>\n",
       "      <th>target</th>\n",
       "    </tr>\n",
       "  </thead>\n",
       "  <tbody>\n",
       "  </tbody>\n",
       "</table>\n",
       "</div>"
      ],
      "text/plain": [
       "Empty DataFrame\n",
       "Columns: [age, frequent_flyer, annual_income_class, services_opted, account_synced, booked_hotel, target]\n",
       "Index: []"
      ]
     },
     "execution_count": 10,
     "metadata": {},
     "output_type": "execute_result"
    }
   ],
   "source": [
    "data.columns = ('age', 'frequent_flyer', 'annual_income_class', 'services_opted', 'account_synced',\n",
    "               'booked_hotel', 'target')\n",
    "data.head(0)"
   ]
  },
  {
   "cell_type": "markdown",
   "id": "049cbaa5",
   "metadata": {},
   "source": [
    "###### Verificar dados nulos"
   ]
  },
  {
   "cell_type": "code",
   "execution_count": 11,
   "id": "068a34f7",
   "metadata": {},
   "outputs": [
    {
     "data": {
      "text/plain": [
       "age                    0\n",
       "frequent_flyer         0\n",
       "annual_income_class    0\n",
       "services_opted         0\n",
       "account_synced         0\n",
       "booked_hotel           0\n",
       "target                 0\n",
       "dtype: int64"
      ]
     },
     "execution_count": 11,
     "metadata": {},
     "output_type": "execute_result"
    }
   ],
   "source": [
    "data.isnull().sum()"
   ]
  },
  {
   "cell_type": "markdown",
   "id": "a372036c",
   "metadata": {},
   "source": [
    "Não há dados faltantes na base de dados."
   ]
  },
  {
   "cell_type": "markdown",
   "id": "abe2ab01",
   "metadata": {},
   "source": [
    "###### Verificar colunas categóricas"
   ]
  },
  {
   "cell_type": "code",
   "execution_count": 12,
   "id": "f73a970b",
   "metadata": {},
   "outputs": [
    {
     "name": "stdout",
     "output_type": "stream",
     "text": [
      "Coluna: frequent_flyer\n",
      "\n",
      "No           608\n",
      "Yes          286\n",
      "No Record     60\n",
      "Name: frequent_flyer, dtype: int64\n",
      "\n",
      "----------------------------------------------------------------------------------------------------\n",
      "\n",
      "Coluna: annual_income_class\n",
      "\n",
      "Middle Income    409\n",
      "Low Income       386\n",
      "High Income      159\n",
      "Name: annual_income_class, dtype: int64\n",
      "\n",
      "----------------------------------------------------------------------------------------------------\n",
      "\n",
      "Coluna: account_synced\n",
      "\n",
      "No     594\n",
      "Yes    360\n",
      "Name: account_synced, dtype: int64\n",
      "\n",
      "----------------------------------------------------------------------------------------------------\n",
      "\n",
      "Coluna: booked_hotel\n",
      "\n",
      "No     576\n",
      "Yes    378\n",
      "Name: booked_hotel, dtype: int64\n",
      "\n",
      "----------------------------------------------------------------------------------------------------\n",
      "\n"
     ]
    }
   ],
   "source": [
    "for column in data.columns:\n",
    "    if data[column].dtype == object:\n",
    "        print(f'Coluna: {column}\\n')\n",
    "        print(data[column].value_counts())\n",
    "        print('\\n' + '-'*100 + '\\n')"
   ]
  },
  {
   "cell_type": "markdown",
   "id": "8a5c13ca",
   "metadata": {},
   "source": [
    "###### Verificar balanceamento da classe alvo"
   ]
  },
  {
   "cell_type": "code",
   "execution_count": 13,
   "id": "cb1f4ac1",
   "metadata": {},
   "outputs": [
    {
     "data": {
      "text/plain": [
       "0    730\n",
       "1    224\n",
       "Name: target, dtype: int64"
      ]
     },
     "execution_count": 13,
     "metadata": {},
     "output_type": "execute_result"
    }
   ],
   "source": [
    "data['target'].value_counts()"
   ]
  },
  {
   "cell_type": "code",
   "execution_count": 14,
   "id": "8260f96e",
   "metadata": {},
   "outputs": [
    {
     "name": "stdout",
     "output_type": "stream",
     "text": [
      "Classe 0: 0.77%\n",
      "Classe 1: 0.23%\n"
     ]
    }
   ],
   "source": [
    "class_0 = data['target'].value_counts()[0]\n",
    "class_1 = data['target'].value_counts()[1]\n",
    "\n",
    "print(f'Classe 0: {class_0/(class_0 + class_1):.2f}%')\n",
    "print(f'Classe 1: {class_1/(class_0 + class_1):.2f}%')"
   ]
  },
  {
   "cell_type": "markdown",
   "id": "e1370599",
   "metadata": {},
   "source": [
    "As classes possuem um nível um pouco alto de desbalanceamento."
   ]
  },
  {
   "cell_type": "markdown",
   "id": "f612e837",
   "metadata": {},
   "source": [
    "## Exploração dos dados\n",
    "___"
   ]
  },
  {
   "cell_type": "markdown",
   "id": "e3065b73",
   "metadata": {},
   "source": [
    "##### Desbalanceamento"
   ]
  },
  {
   "cell_type": "code",
   "execution_count": 15,
   "id": "fd341e51",
   "metadata": {},
   "outputs": [
    {
     "data": {
      "text/plain": [
       "Text(0.5, 1.0, 'Desbalanceamento da classe alvo')"
      ]
     },
     "execution_count": 15,
     "metadata": {},
     "output_type": "execute_result"
    },
    {
     "data": {
      "image/png": "[encoded data removed]",
      "text/plain": [
       "<Figure size 576x432 with 1 Axes>"
      ]
     },
     "metadata": {},
     "output_type": "display_data"
    }
   ],
   "source": [
    "# Gráfico\n",
    "plt.figure(figsize=(8, 6))\n",
    "sns.countplot(x=data['target'])\n",
    "plt.title('Desbalanceamento da classe alvo')"
   ]
  },
  {
   "cell_type": "markdown",
   "id": "8f13e041",
   "metadata": {},
   "source": [
    "##### Distribuição da idade dos clientes"
   ]
  },
  {
   "cell_type": "code",
   "execution_count": 16,
   "id": "563892fd",
   "metadata": {},
   "outputs": [
    {
     "data": {
      "text/plain": [
       "Text(0.5, 1.0, 'Idade dos clientes')"
      ]
     },
     "execution_count": 16,
     "metadata": {},
     "output_type": "execute_result"
    },
    {
     "data": {
      "image/png": "[encoded data removed]",
      "text/plain": [
       "<Figure size 1008x432 with 1 Axes>"
      ]
     },
     "metadata": {},
     "output_type": "display_data"
    }
   ],
   "source": [
    "# Gráfico\n",
    "plt.figure(figsize=(14, 6))\n",
    "sns.boxplot(x=data['age'])\n",
    "plt.title('Idade dos clientes')"
   ]
  },
  {
   "cell_type": "markdown",
   "id": "d9ef4588",
   "metadata": {},
   "source": [
    "Através do boxplot conseguimos perceber que não há outliers. Além disso, verificamos que a idade dos clientes variam mais ou menos entre 27 e 38 anos, com uma mediana em 31 anos."
   ]
  },
  {
   "cell_type": "markdown",
   "id": "d09e466b",
   "metadata": {},
   "source": [
    "##### Voos frequentes"
   ]
  },
  {
   "cell_type": "code",
   "execution_count": 17,
   "id": "624b19f5",
   "metadata": {},
   "outputs": [
    {
     "data": {
      "text/plain": [
       "Text(0.5, 1.0, 'Voos frequentes')"
      ]
     },
     "execution_count": 17,
     "metadata": {},
     "output_type": "execute_result"
    },
    {
     "data": {
      "image/png": "[encoded data removed]",
      "text/plain": [
       "<Figure size 720x432 with 1 Axes>"
      ]
     },
     "metadata": {},
     "output_type": "display_data"
    }
   ],
   "source": [
    "# Gráfico\n",
    "plt.figure(figsize=(10, 6))\n",
    "sns.countplot(data=data, y='frequent_flyer')\n",
    "plt.title('Voos frequentes')"
   ]
  },
  {
   "cell_type": "markdown",
   "id": "e7148c1e",
   "metadata": {},
   "source": [
    "Grande parte dos clientes não fazem voos frequentes."
   ]
  },
  {
   "cell_type": "markdown",
   "id": "0eecdb30",
   "metadata": {},
   "source": [
    "##### Renda anual"
   ]
  },
  {
   "cell_type": "code",
   "execution_count": 18,
   "id": "78fe750a",
   "metadata": {},
   "outputs": [
    {
     "data": {
      "text/plain": [
       "<matplotlib.legend.Legend at 0x21f4b4140a0>"
      ]
     },
     "execution_count": 18,
     "metadata": {},
     "output_type": "execute_result"
    },
    {
     "data": {
      "image/png": "[encoded data removed]",
      "text/plain": [
       "<Figure size 1008x576 with 1 Axes>"
      ]
     },
     "metadata": {},
     "output_type": "display_data"
    }
   ],
   "source": [
    "# Gráfico\n",
    "plt.figure(figsize=(14, 8))\n",
    "plt.title('Renda anual dos clientes')\n",
    "plt.pie(x=data['annual_income_class'].value_counts(), autopct='%1.1f%%', textprops={'color':'white', 'weight':'bold', 'size':12})\n",
    "plt.legend(labels=data['annual_income_class'].value_counts().index,\n",
    "          title='Classe',\n",
    "          title_fontsize=14,\n",
    "          loc=\"center left\",\n",
    "          bbox_to_anchor=(1, 0, 0.5, 1),\n",
    "          prop={'size':14})"
   ]
  },
  {
   "cell_type": "markdown",
   "id": "d6fd208e",
   "metadata": {},
   "source": [
    "Percebe-se que a maioria dos clientes possuem renda média (42,9% dos clientes) e renda baixa (40,5% dos clientes). Dessa forma, talvez seja interessante fazer mais ofertas de viagens que se encaixe nesses perfis do que viagens que se encaixe no perfil de renda 'High Income'.  \n",
    "Porém é importante salientar que se o perfil 'High Income' gera muitos lucros pra empresa, então é necessário olhar com calma para o cenário, além de que, se gera muitos lucros, é interessante que se faça estratégias para conseguir mais clientes com esse perfil e preservar os existentes."
   ]
  },
  {
   "cell_type": "markdown",
   "id": "95e783e2",
   "metadata": {},
   "source": [
    "##### Número de vezes que os serviços foram escolhidos nos últimos anos"
   ]
  },
  {
   "cell_type": "code",
   "execution_count": 19,
   "id": "ff464f3b",
   "metadata": {},
   "outputs": [
    {
     "data": {
      "text/plain": [
       "<matplotlib.legend.Legend at 0x21f4b42eeb0>"
      ]
     },
     "execution_count": 19,
     "metadata": {},
     "output_type": "execute_result"
    },
    {
     "data": {
      "image/png": "[encoded data removed]",
      "text/plain": [
       "<Figure size 864x432 with 1 Axes>"
      ]
     },
     "metadata": {},
     "output_type": "display_data"
    }
   ],
   "source": [
    "# Gráfico\n",
    "plt.figure(figsize=(12, 6))\n",
    "sns.countplot(x=data['services_opted'], hue=data['annual_income_class'])\n",
    "plt.title('Serviços nos últimos anos')\n",
    "plt.legend(title='Classe', title_fontsize=14)"
   ]
  },
  {
   "cell_type": "markdown",
   "id": "48eed21a",
   "metadata": {},
   "source": [
    "Clientes da classe 'Low Income' e 'High Income' fizeram, em sua maioria, apenas uma viagem nos últimos anos, enquanto clientes com o perfil 'Middle Income' fizeram entre uma e três viagens. Vale ressaltar que nenhum cliente 'High Income' fez duas ou três viagens, porém teve alguns que fizeram mais que três.  \n",
    "Talvez seja possível adotar estratégias para incentivar clientes 'Low Income' e 'High Income' a realizarem mais viagens, já que a maioria fez somente uma nos últimos anos.\n"
   ]
  },
  {
   "cell_type": "markdown",
   "id": "75f5a05a",
   "metadata": {},
   "source": [
    "##### Correlação entre features"
   ]
  },
  {
   "cell_type": "code",
   "execution_count": 20,
   "id": "5406a638",
   "metadata": {},
   "outputs": [
    {
     "name": "stdout",
     "output_type": "stream",
     "text": [
      "<class 'pandas.core.frame.DataFrame'>\n",
      "RangeIndex: 954 entries, 0 to 953\n",
      "Data columns (total 7 columns):\n",
      " #   Column               Non-Null Count  Dtype\n",
      "---  ------               --------------  -----\n",
      " 0   age                  954 non-null    int64\n",
      " 1   frequent_flyer       954 non-null    int64\n",
      " 2   annual_income_class  954 non-null    int64\n",
      " 3   services_opted       954 non-null    int64\n",
      " 4   account_synced       954 non-null    int64\n",
      " 5   booked_hotel         954 non-null    int64\n",
      " 6   target               954 non-null    int64\n",
      "dtypes: int64(7)\n",
      "memory usage: 52.3 KB\n"
     ]
    }
   ],
   "source": [
    "# Transformar colunas categóricas para numéricas\n",
    "data_corr = data.copy()\n",
    "replacement = {'frequent_flyer': {'No': 0, 'Yes': 1, 'No Record': -1},\n",
    "                'annual_income_class': {'Low Income': 0, 'Middle Income': 1, 'High Income': 2},\n",
    "                'account_synced': {'No':0, 'Yes': 1},\n",
    "                'booked_hotel': {'No': 0, 'Yes': 1}}\n",
    "data_corr = data_corr.replace(replacement)\n",
    "data_corr.info()"
   ]
  },
  {
   "cell_type": "code",
   "execution_count": 21,
   "id": "6498d9b5",
   "metadata": {
    "scrolled": false
   },
   "outputs": [
    {
     "data": {
      "text/plain": [
       "<AxesSubplot:>"
      ]
     },
     "execution_count": 21,
     "metadata": {},
     "output_type": "execute_result"
    },
    {
     "data": {
      "image/png": "[encoded data removed]",
      "text/plain": [
       "<Figure size 576x504 with 2 Axes>"
      ]
     },
     "metadata": {},
     "output_type": "display_data"
    }
   ],
   "source": [
    "# Gráfico\n",
    "plt.figure(figsize=(8, 7))\n",
    "sns.heatmap(data_corr.corr(), annot=True, cmap=CUSTOM_PALETTE_1)"
   ]
  },
  {
   "cell_type": "markdown",
   "id": "892ded8d",
   "metadata": {},
   "source": [
    "## Modelagem dos dados\n",
    "___"
   ]
  },
  {
   "cell_type": "markdown",
   "id": "10f7543d",
   "metadata": {},
   "source": [
    "##### Dummies"
   ]
  },
  {
   "cell_type": "code",
   "execution_count": 22,
   "id": "95b014f8",
   "metadata": {},
   "outputs": [
    {
     "data": {
      "text/html": [
       "<div>\n",
       "<style scoped>\n",
       "    .dataframe tbody tr th:only-of-type {\n",
       "        vertical-align: middle;\n",
       "    }\n",
       "\n",
       "    .dataframe tbody tr th {\n",
       "        vertical-align: top;\n",
       "    }\n",
       "\n",
       "    .dataframe thead th {\n",
       "        text-align: right;\n",
       "    }\n",
       "</style>\n",
       "<table border=\"1\" class=\"dataframe\">\n",
       "  <thead>\n",
       "    <tr style=\"text-align: right;\">\n",
       "      <th></th>\n",
       "      <th>age</th>\n",
       "      <th>services_opted</th>\n",
       "      <th>target</th>\n",
       "      <th>frequent_flyer_no</th>\n",
       "      <th>frequent_flyer_no record</th>\n",
       "      <th>frequent_flyer_yes</th>\n",
       "      <th>annual_income_class_high income</th>\n",
       "      <th>annual_income_class_low income</th>\n",
       "      <th>annual_income_class_middle income</th>\n",
       "      <th>account_synced_no</th>\n",
       "      <th>account_synced_yes</th>\n",
       "      <th>booked_hotel_no</th>\n",
       "      <th>booked_hotel_yes</th>\n",
       "    </tr>\n",
       "  </thead>\n",
       "  <tbody>\n",
       "    <tr>\n",
       "      <th>0</th>\n",
       "      <td>34</td>\n",
       "      <td>6</td>\n",
       "      <td>0</td>\n",
       "      <td>1</td>\n",
       "      <td>0</td>\n",
       "      <td>0</td>\n",
       "      <td>0</td>\n",
       "      <td>0</td>\n",
       "      <td>1</td>\n",
       "      <td>1</td>\n",
       "      <td>0</td>\n",
       "      <td>0</td>\n",
       "      <td>1</td>\n",
       "    </tr>\n",
       "    <tr>\n",
       "      <th>1</th>\n",
       "      <td>34</td>\n",
       "      <td>5</td>\n",
       "      <td>1</td>\n",
       "      <td>0</td>\n",
       "      <td>0</td>\n",
       "      <td>1</td>\n",
       "      <td>0</td>\n",
       "      <td>1</td>\n",
       "      <td>0</td>\n",
       "      <td>0</td>\n",
       "      <td>1</td>\n",
       "      <td>1</td>\n",
       "      <td>0</td>\n",
       "    </tr>\n",
       "    <tr>\n",
       "      <th>2</th>\n",
       "      <td>37</td>\n",
       "      <td>3</td>\n",
       "      <td>0</td>\n",
       "      <td>1</td>\n",
       "      <td>0</td>\n",
       "      <td>0</td>\n",
       "      <td>0</td>\n",
       "      <td>0</td>\n",
       "      <td>1</td>\n",
       "      <td>0</td>\n",
       "      <td>1</td>\n",
       "      <td>1</td>\n",
       "      <td>0</td>\n",
       "    </tr>\n",
       "    <tr>\n",
       "      <th>3</th>\n",
       "      <td>30</td>\n",
       "      <td>2</td>\n",
       "      <td>0</td>\n",
       "      <td>1</td>\n",
       "      <td>0</td>\n",
       "      <td>0</td>\n",
       "      <td>0</td>\n",
       "      <td>0</td>\n",
       "      <td>1</td>\n",
       "      <td>1</td>\n",
       "      <td>0</td>\n",
       "      <td>1</td>\n",
       "      <td>0</td>\n",
       "    </tr>\n",
       "    <tr>\n",
       "      <th>4</th>\n",
       "      <td>30</td>\n",
       "      <td>1</td>\n",
       "      <td>0</td>\n",
       "      <td>1</td>\n",
       "      <td>0</td>\n",
       "      <td>0</td>\n",
       "      <td>0</td>\n",
       "      <td>1</td>\n",
       "      <td>0</td>\n",
       "      <td>1</td>\n",
       "      <td>0</td>\n",
       "      <td>1</td>\n",
       "      <td>0</td>\n",
       "    </tr>\n",
       "  </tbody>\n",
       "</table>\n",
       "</div>"
      ],
      "text/plain": [
       "   age  services_opted  target  frequent_flyer_no  frequent_flyer_no record  \\\n",
       "0   34               6       0                  1                         0   \n",
       "1   34               5       1                  0                         0   \n",
       "2   37               3       0                  1                         0   \n",
       "3   30               2       0                  1                         0   \n",
       "4   30               1       0                  1                         0   \n",
       "\n",
       "   frequent_flyer_yes  annual_income_class_high income  \\\n",
       "0                   0                                0   \n",
       "1                   1                                0   \n",
       "2                   0                                0   \n",
       "3                   0                                0   \n",
       "4                   0                                0   \n",
       "\n",
       "   annual_income_class_low income  annual_income_class_middle income  \\\n",
       "0                               0                                  1   \n",
       "1                               1                                  0   \n",
       "2                               0                                  1   \n",
       "3                               0                                  1   \n",
       "4                               1                                  0   \n",
       "\n",
       "   account_synced_no  account_synced_yes  booked_hotel_no  booked_hotel_yes  \n",
       "0                  1                   0                0                 1  \n",
       "1                  0                   1                1                 0  \n",
       "2                  0                   1                1                 0  \n",
       "3                  1                   0                1                 0  \n",
       "4                  1                   0                1                 0  "
      ]
     },
     "execution_count": 22,
     "metadata": {},
     "output_type": "execute_result"
    }
   ],
   "source": [
    "data_dummies = pd.get_dummies(data)\n",
    "data_dummies.columns = [x.lower() for x in data_dummies.columns]\n",
    "data_dummies.head()"
   ]
  },
  {
   "cell_type": "markdown",
   "id": "61efa593",
   "metadata": {},
   "source": [
    "##### Train/Test"
   ]
  },
  {
   "cell_type": "code",
   "execution_count": 23,
   "id": "4964bd1f",
   "metadata": {},
   "outputs": [],
   "source": [
    "# Separar classe alvo\n",
    "X = data_dummies.drop('target', axis=1)\n",
    "y = data_dummies['target']\n",
    "\n",
    "# Separar treino e teste\n",
    "X_train, X_test, y_train, y_test = train_test_split(X, y, test_size=0.3, random_state=RANDOM_STATE)"
   ]
  },
  {
   "cell_type": "markdown",
   "id": "0075b445",
   "metadata": {},
   "source": [
    "## Machine Learning\n",
    "___"
   ]
  },
  {
   "cell_type": "markdown",
   "id": "ab03161e",
   "metadata": {},
   "source": [
    "##### Teste inicial com vários algoritmos de ML"
   ]
  },
  {
   "cell_type": "code",
   "execution_count": 24,
   "id": "2941bc29",
   "metadata": {},
   "outputs": [],
   "source": [
    "# Classificadores\n",
    "classifiers = [['Ada Boosting Classifier', AdaBoostClassifier()],\n",
    "             ['Decision Tree Classifier', DecisionTreeClassifier()],\n",
    "             ['Extra Tree Classifier', ExtraTreesClassifier()],\n",
    "             ['Gausian Naive Bayes', GaussianNB()],\n",
    "             ['Gradient Boosting Classifier', GradientBoostingClassifier()],\n",
    "             ['K-Neighbors Classifier', KNeighborsClassifier()],\n",
    "             ['Logistic Regression', LogisticRegression()],\n",
    "             ['Random Forest Classifier', RandomForestClassifier()],\n",
    "             ['Support Vector Classifier', SVC()]]"
   ]
  },
  {
   "cell_type": "code",
   "execution_count": 25,
   "id": "743f85d1",
   "metadata": {},
   "outputs": [
    {
     "name": "stdout",
     "output_type": "stream",
     "text": [
      "Ada Boosting Classifier: 0.7634050179211469\n",
      "Decision Tree Classifier: 0.8450135005661528\n",
      "Extra Tree Classifier: 0.7826761473820297\n",
      "Gausian Naive Bayes: 0.7311692506459948\n",
      "Gradient Boosting Classifier: 0.8290709080717488\n",
      "K-Neighbors Classifier: 0.7957966175907175\n",
      "Logistic Regression: 0.7410592594014551\n",
      "Random Forest Classifier: 0.8148387096774192\n",
      "Support Vector Classifier: 0.43280632411067194\n"
     ]
    }
   ],
   "source": [
    "# Execução\n",
    "for i, (name, model) in enumerate(classifiers):\n",
    "    model.random_state = RANDOM_STATE\n",
    "    model.fit(X_train, y_train)\n",
    "    y_pred = model.predict(X_test)\n",
    "    classifiers[i].append(f1_score(y_test, y_pred, average='macro'))\n",
    "    print(name, classifiers[i][2], sep=': ')"
   ]
  },
  {
   "cell_type": "markdown",
   "id": "f9b55993",
   "metadata": {},
   "source": [
    "###### F1 Score"
   ]
  },
  {
   "cell_type": "markdown",
   "id": "eb9738ea",
   "metadata": {},
   "source": [
    "A métrica F1 Score foi utilizada ao invés da precisão (accuracy) pelo motivo principal que a classe alvo está desbalanceada, isso faz com que o modelo seja bom em prever verdadeiros negativos (0) e, portanto, a precisão será alta.  \n",
    "Porém, o mais importante aqui é saber se um cliente vai se desligar da empresa, ou seja, prever um verdadeiro positivo (1), e verdadeiros positivos (1) possuem bem menos dados que verdadeiros negativos (0).  \n",
    "O F1 Score equilibra precisão e recall, então será melhor para avaliar esse modelo inicialmente."
   ]
  },
  {
   "cell_type": "markdown",
   "id": "60f97706",
   "metadata": {},
   "source": [
    "###### Resultado"
   ]
  },
  {
   "cell_type": "code",
   "execution_count": 26,
   "id": "ac6f7f57",
   "metadata": {},
   "outputs": [
    {
     "data": {
      "text/html": [
       "<div>\n",
       "<style scoped>\n",
       "    .dataframe tbody tr th:only-of-type {\n",
       "        vertical-align: middle;\n",
       "    }\n",
       "\n",
       "    .dataframe tbody tr th {\n",
       "        vertical-align: top;\n",
       "    }\n",
       "\n",
       "    .dataframe thead th {\n",
       "        text-align: right;\n",
       "    }\n",
       "</style>\n",
       "<table border=\"1\" class=\"dataframe\">\n",
       "  <thead>\n",
       "    <tr style=\"text-align: right;\">\n",
       "      <th></th>\n",
       "      <th>name</th>\n",
       "      <th>model</th>\n",
       "      <th>f1_score</th>\n",
       "    </tr>\n",
       "  </thead>\n",
       "  <tbody>\n",
       "    <tr>\n",
       "      <th>0</th>\n",
       "      <td>Decision Tree Classifier</td>\n",
       "      <td>DecisionTreeClassifier(random_state=42)</td>\n",
       "      <td>0.845014</td>\n",
       "    </tr>\n",
       "    <tr>\n",
       "      <th>1</th>\n",
       "      <td>Gradient Boosting Classifier</td>\n",
       "      <td>([DecisionTreeRegressor(criterion='friedman_ms...</td>\n",
       "      <td>0.829071</td>\n",
       "    </tr>\n",
       "    <tr>\n",
       "      <th>2</th>\n",
       "      <td>Random Forest Classifier</td>\n",
       "      <td>(DecisionTreeClassifier(max_features='auto', r...</td>\n",
       "      <td>0.814839</td>\n",
       "    </tr>\n",
       "    <tr>\n",
       "      <th>3</th>\n",
       "      <td>K-Neighbors Classifier</td>\n",
       "      <td>KNeighborsClassifier()</td>\n",
       "      <td>0.795797</td>\n",
       "    </tr>\n",
       "    <tr>\n",
       "      <th>4</th>\n",
       "      <td>Extra Tree Classifier</td>\n",
       "      <td>(ExtraTreeClassifier(random_state=1608637542),...</td>\n",
       "      <td>0.782676</td>\n",
       "    </tr>\n",
       "    <tr>\n",
       "      <th>5</th>\n",
       "      <td>Ada Boosting Classifier</td>\n",
       "      <td>(DecisionTreeClassifier(max_depth=1, random_st...</td>\n",
       "      <td>0.763405</td>\n",
       "    </tr>\n",
       "    <tr>\n",
       "      <th>6</th>\n",
       "      <td>Logistic Regression</td>\n",
       "      <td>LogisticRegression(random_state=42)</td>\n",
       "      <td>0.741059</td>\n",
       "    </tr>\n",
       "    <tr>\n",
       "      <th>7</th>\n",
       "      <td>Gausian Naive Bayes</td>\n",
       "      <td>GaussianNB()</td>\n",
       "      <td>0.731169</td>\n",
       "    </tr>\n",
       "    <tr>\n",
       "      <th>8</th>\n",
       "      <td>Support Vector Classifier</td>\n",
       "      <td>SVC(random_state=42)</td>\n",
       "      <td>0.432806</td>\n",
       "    </tr>\n",
       "  </tbody>\n",
       "</table>\n",
       "</div>"
      ],
      "text/plain": [
       "                           name  \\\n",
       "0      Decision Tree Classifier   \n",
       "1  Gradient Boosting Classifier   \n",
       "2      Random Forest Classifier   \n",
       "3        K-Neighbors Classifier   \n",
       "4         Extra Tree Classifier   \n",
       "5       Ada Boosting Classifier   \n",
       "6           Logistic Regression   \n",
       "7           Gausian Naive Bayes   \n",
       "8     Support Vector Classifier   \n",
       "\n",
       "                                               model  f1_score  \n",
       "0            DecisionTreeClassifier(random_state=42)  0.845014  \n",
       "1  ([DecisionTreeRegressor(criterion='friedman_ms...  0.829071  \n",
       "2  (DecisionTreeClassifier(max_features='auto', r...  0.814839  \n",
       "3                             KNeighborsClassifier()  0.795797  \n",
       "4  (ExtraTreeClassifier(random_state=1608637542),...  0.782676  \n",
       "5  (DecisionTreeClassifier(max_depth=1, random_st...  0.763405  \n",
       "6                LogisticRegression(random_state=42)  0.741059  \n",
       "7                                       GaussianNB()  0.731169  \n",
       "8                               SVC(random_state=42)  0.432806  "
      ]
     },
     "execution_count": 26,
     "metadata": {},
     "output_type": "execute_result"
    }
   ],
   "source": [
    "result = pd.DataFrame(zip(np.transpose(classifiers)[0], np.transpose(classifiers)[1], \n",
    "                          np.transpose(classifiers)[2]), columns=['name', 'model', 'f1_score'])\n",
    "result = result.sort_values(by='f1_score', ascending=False).reset_index()\n",
    "result = result.drop(['index'], axis=1)\n",
    "result"
   ]
  },
  {
   "cell_type": "code",
   "execution_count": 27,
   "id": "f43a28b7",
   "metadata": {},
   "outputs": [
    {
     "data": {
      "text/plain": [
       "Text(0.5, 0, 'F1 Score')"
      ]
     },
     "execution_count": 27,
     "metadata": {},
     "output_type": "execute_result"
    },
    {
     "data": {
      "image/png": "[encoded data removed]",
      "text/plain": [
       "<Figure size 576x504 with 1 Axes>"
      ]
     },
     "metadata": {},
     "output_type": "display_data"
    }
   ],
   "source": [
    "# Gráfico \n",
    "plt.figure(figsize=(8, 7))\n",
    "sns.barplot(data=result, x='f1_score', y='name', palette=CUSTOM_PALETTE_2)\n",
    "plt.xlabel('F1 Score')"
   ]
  },
  {
   "cell_type": "markdown",
   "id": "6b43bca7",
   "metadata": {},
   "source": [
    "Decision Tree Classifier foi o algoritmo em que houve um melhor f1_score. Vamos explorá-lo melhor."
   ]
  },
  {
   "cell_type": "markdown",
   "id": "b572e46a",
   "metadata": {},
   "source": [
    "##### Avaliação inicial do modelo com Decision Tree Classifier"
   ]
  },
  {
   "cell_type": "code",
   "execution_count": 28,
   "id": "89a8b6e7",
   "metadata": {},
   "outputs": [],
   "source": [
    "# Modelo inicial\n",
    "model = result.iloc[0]['model']\n",
    "\n",
    "# Predição\n",
    "y_pred = model.predict(X_test)"
   ]
  },
  {
   "cell_type": "markdown",
   "id": "d686c370",
   "metadata": {},
   "source": [
    "###### Matriz de confusão"
   ]
  },
  {
   "cell_type": "code",
   "execution_count": 29,
   "id": "1060e731",
   "metadata": {},
   "outputs": [
    {
     "data": {
      "image/png": "[encoded data removed]",
      "text/plain": [
       "<Figure size 432x288 with 2 Axes>"
      ]
     },
     "metadata": {},
     "output_type": "display_data"
    }
   ],
   "source": [
    "with sns.axes_style('dark'):\n",
    "    cm = confusion_matrix(y_test, y_pred)\n",
    "    disp = ConfusionMatrixDisplay(confusion_matrix=cm)\n",
    "    disp.plot(cmap=ListedColormap(CUSTOM_PALETTE_1))"
   ]
  },
  {
   "cell_type": "markdown",
   "id": "e4f9ebd5",
   "metadata": {},
   "source": [
    "###### Relatório de classificação"
   ]
  },
  {
   "cell_type": "code",
   "execution_count": 30,
   "id": "41c9338b",
   "metadata": {},
   "outputs": [
    {
     "name": "stdout",
     "output_type": "stream",
     "text": [
      "              precision    recall  f1-score   support\n",
      "\n",
      "           0       0.92      0.95      0.93       219\n",
      "           1       0.80      0.72      0.76        68\n",
      "\n",
      "    accuracy                           0.89       287\n",
      "   macro avg       0.86      0.83      0.85       287\n",
      "weighted avg       0.89      0.89      0.89       287\n",
      "\n"
     ]
    }
   ],
   "source": [
    "cr = classification_report(y_test, y_pred)\n",
    "print(cr)"
   ]
  },
  {
   "cell_type": "markdown",
   "id": "c31041f1",
   "metadata": {},
   "source": [
    "De fato, percebe-se que a classificação de verdadeiros negativos é melhor que a de verdadeiros positivos, uma vez que a precisão e o recall são maiores.  \n",
    "Vamos tentar otimizar isso."
   ]
  },
  {
   "cell_type": "markdown",
   "id": "de381fa8",
   "metadata": {},
   "source": [
    "##### Otimização Decision Tree Classifier"
   ]
  },
  {
   "cell_type": "markdown",
   "id": "2034fb7f",
   "metadata": {},
   "source": [
    "A otimização será feita utilizando o GridSearch para encontrar os melhores parâmetros, além de fazer a validação cruzada no processo e utilizar padronização dos dados."
   ]
  },
  {
   "cell_type": "markdown",
   "id": "79c738b7",
   "metadata": {},
   "source": [
    "    criterion         -> A função para medir a qualidade de uma divisão;\n",
    "    splitter          -> A estratégia usada para escolher a divisão em cada nó;\n",
    "    max_depth         -> A profundidade máxima da árvore;\n",
    "    min_samples_split -> O número mínimo de amostras necessárias para dividir um nó \n",
    "                         interno;\n",
    "    min_samples_leaf  -> O número mínimo de amostras necessárias para estar em um nó \n",
    "                         folha.\n",
    "                        "
   ]
  },
  {
   "cell_type": "markdown",
   "id": "564633a0",
   "metadata": {},
   "source": [
    "###### Pipeline"
   ]
  },
  {
   "cell_type": "code",
   "execution_count": 31,
   "id": "56942e95",
   "metadata": {},
   "outputs": [],
   "source": [
    "pipe = Pipeline([('scaler', None),\n",
    "                 ('classifier', DecisionTreeClassifier(random_state=RANDOM_STATE))])"
   ]
  },
  {
   "cell_type": "markdown",
   "id": "cf984761",
   "metadata": {},
   "source": [
    "###### Parâmetros do classificador a serem testados"
   ]
  },
  {
   "cell_type": "code",
   "execution_count": 32,
   "id": "036993a3",
   "metadata": {},
   "outputs": [],
   "source": [
    "params = {'classifier__criterion'       : ['gini', 'entropy'],\n",
    "         'classifier__max_depth'        : range(0, 10),\n",
    "         'classifier__min_samples_split': range(0, 20),\n",
    "         'classifier__min_samples_leaf' : range(0, 10)}"
   ]
  },
  {
   "cell_type": "markdown",
   "id": "215813fc",
   "metadata": {},
   "source": [
    "###### Execução GridSearchCV"
   ]
  },
  {
   "cell_type": "code",
   "execution_count": 33,
   "id": "bac1f52c",
   "metadata": {},
   "outputs": [],
   "source": [
    "# Criar GridSearch\n",
    "grid = GridSearchCV(estimator=pipe,\n",
    "                   param_grid=params,\n",
    "                   cv=5,\n",
    "                   n_jobs=-1,\n",
    "                   scoring='f1_macro')"
   ]
  },
  {
   "cell_type": "code",
   "execution_count": 34,
   "id": "f25b6f53",
   "metadata": {},
   "outputs": [
    {
     "data": {
      "text/plain": [
       "GridSearchCV(cv=5,\n",
       "             estimator=Pipeline(steps=[('scaler', None),\n",
       "                                       ('classifier',\n",
       "                                        DecisionTreeClassifier(random_state=42))]),\n",
       "             n_jobs=-1,\n",
       "             param_grid={'classifier__criterion': ['gini', 'entropy'],\n",
       "                         'classifier__max_depth': range(0, 10),\n",
       "                         'classifier__min_samples_leaf': range(0, 10),\n",
       "                         'classifier__min_samples_split': range(0, 20)},\n",
       "             scoring='f1_macro')"
      ]
     },
     "execution_count": 34,
     "metadata": {},
     "output_type": "execute_result"
    }
   ],
   "source": [
    "# Executar GridSearch\n",
    "grid.fit(X, y)"
   ]
  },
  {
   "cell_type": "code",
   "execution_count": 35,
   "id": "f69527ac",
   "metadata": {},
   "outputs": [
    {
     "data": {
      "text/plain": [
       "{'classifier__criterion': 'gini',\n",
       " 'classifier__max_depth': 7,\n",
       " 'classifier__min_samples_leaf': 4,\n",
       " 'classifier__min_samples_split': 2}"
      ]
     },
     "execution_count": 35,
     "metadata": {},
     "output_type": "execute_result"
    }
   ],
   "source": [
    "# Melhores parâmetros\n",
    "best_params = grid.best_params_\n",
    "best_params"
   ]
  },
  {
   "cell_type": "code",
   "execution_count": 36,
   "id": "ba569063",
   "metadata": {},
   "outputs": [
    {
     "data": {
      "text/plain": [
       "0.8591498115506562"
      ]
     },
     "execution_count": 36,
     "metadata": {},
     "output_type": "execute_result"
    }
   ],
   "source": [
    "# Melhor score\n",
    "best_score = grid.best_score_\n",
    "best_score"
   ]
  },
  {
   "cell_type": "code",
   "execution_count": 37,
   "id": "329e2c84",
   "metadata": {},
   "outputs": [
    {
     "data": {
      "text/plain": [
       "Pipeline(steps=[('scaler', None),\n",
       "                ('classifier',\n",
       "                 DecisionTreeClassifier(max_depth=7, min_samples_leaf=4,\n",
       "                                        random_state=42))])"
      ]
     },
     "execution_count": 37,
     "metadata": {},
     "output_type": "execute_result"
    }
   ],
   "source": [
    "# Melhor estimator\n",
    "best_estimator = grid.best_estimator_\n",
    "best_estimator"
   ]
  },
  {
   "cell_type": "markdown",
   "id": "5ffec17a",
   "metadata": {},
   "source": [
    "##### Verificar overfitting do modelo otimizado"
   ]
  },
  {
   "cell_type": "code",
   "execution_count": 38,
   "id": "0f0e6203",
   "metadata": {},
   "outputs": [],
   "source": [
    "# Modelo otimizado\n",
    "model = best_estimator.named_steps['classifier']"
   ]
  },
  {
   "cell_type": "markdown",
   "id": "d1828fac",
   "metadata": {},
   "source": [
    "###### Classificar dados de treino e comparar com dados de teste"
   ]
  },
  {
   "cell_type": "code",
   "execution_count": 39,
   "id": "5e1f8e24",
   "metadata": {},
   "outputs": [
    {
     "name": "stdout",
     "output_type": "stream",
     "text": [
      " - Train: 0.92 \n",
      " - Test: 0.93\n"
     ]
    }
   ],
   "source": [
    "train_score = model.score(X_train, y_train)\n",
    "test_score = model.score(X_test, y_test)\n",
    "print(f' - Train: {train_score:.2f} \\n - Test: {test_score:.2f}')"
   ]
  },
  {
   "cell_type": "markdown",
   "id": "7eab731e",
   "metadata": {},
   "source": [
    "A classificação dos dados de teste em comparação aos dados de treino possui pouca diferença, o modelo consegue classificar ambos com uma precisão semelhante. Isso nos mostra que o modelo não está sendo prejudicado por overfitting."
   ]
  },
  {
   "cell_type": "markdown",
   "id": "cfb51393",
   "metadata": {},
   "source": [
    "## Avaliação\n",
    "___"
   ]
  },
  {
   "cell_type": "markdown",
   "id": "20ed549f",
   "metadata": {},
   "source": [
    "Vamos avaliar o modelo otimizado com os mesmos dados de teste da avaliação inicial."
   ]
  },
  {
   "cell_type": "code",
   "execution_count": 40,
   "id": "db0c4a6b",
   "metadata": {},
   "outputs": [],
   "source": [
    "# Predição\n",
    "y_pred = model.predict(X_test)"
   ]
  },
  {
   "cell_type": "markdown",
   "id": "e8c119f5",
   "metadata": {},
   "source": [
    "###### Matriz de confusão"
   ]
  },
  {
   "cell_type": "code",
   "execution_count": 41,
   "id": "c7e3e6a3",
   "metadata": {},
   "outputs": [
    {
     "data": {
      "image/png": "[encoded data removed]",
      "text/plain": [
       "<Figure size 432x288 with 2 Axes>"
      ]
     },
     "metadata": {},
     "output_type": "display_data"
    }
   ],
   "source": [
    "with sns.axes_style('dark'):\n",
    "    cm = confusion_matrix(y_test, y_pred)\n",
    "    disp = ConfusionMatrixDisplay(confusion_matrix=cm)\n",
    "    disp.plot(cmap=ListedColormap(CUSTOM_PALETTE_1))"
   ]
  },
  {
   "cell_type": "markdown",
   "id": "281e5d9a",
   "metadata": {},
   "source": [
    "###### Relatório de classificação"
   ]
  },
  {
   "cell_type": "code",
   "execution_count": 42,
   "id": "32b78512",
   "metadata": {},
   "outputs": [
    {
     "name": "stdout",
     "output_type": "stream",
     "text": [
      "              precision    recall  f1-score   support\n",
      "\n",
      "           0       0.95      0.95      0.95       219\n",
      "           1       0.85      0.84      0.84        68\n",
      "\n",
      "    accuracy                           0.93       287\n",
      "   macro avg       0.90      0.90      0.90       287\n",
      "weighted avg       0.93      0.93      0.93       287\n",
      "\n"
     ]
    }
   ],
   "source": [
    "cr = classification_report(y_test, y_pred)\n",
    "print(cr)"
   ]
  },
  {
   "cell_type": "markdown",
   "id": "278cffbb",
   "metadata": {},
   "source": [
    "###### Score validação cruzada"
   ]
  },
  {
   "cell_type": "code",
   "execution_count": 43,
   "id": "f8cd3c3a",
   "metadata": {},
   "outputs": [
    {
     "data": {
      "text/plain": [
       "0.8591498115506562"
      ]
     },
     "execution_count": 43,
     "metadata": {},
     "output_type": "execute_result"
    }
   ],
   "source": [
    "best_score"
   ]
  },
  {
   "cell_type": "markdown",
   "id": "5f1aa986",
   "metadata": {},
   "source": [
    "Vemos então que depois da otimização de parâmetros do modelo, houve uma pequena melhora tanto na precisão, quanto no recall, o que leva a uma melhora no f1-score também. Além disso, ainda temos que o f1-score na validação cruzada foi cerca de 85-86%."
   ]
  },
  {
   "cell_type": "markdown",
   "id": "bb99e4ac",
   "metadata": {},
   "source": [
    "##### Representação da árvore de decisão"
   ]
  },
  {
   "cell_type": "code",
   "execution_count": 44,
   "id": "b648a930",
   "metadata": {
    "scrolled": false
   },
   "outputs": [
    {
     "name": "stdout",
     "output_type": "stream",
     "text": [
      "|--- frequent_flyer_yes <= 0.50\n",
      "|   |--- age <= 28.50\n",
      "|   |   |--- services_opted <= 1.50\n",
      "|   |   |   |--- class: 0\n",
      "|   |   |--- services_opted >  1.50\n",
      "|   |   |   |--- services_opted <= 2.50\n",
      "|   |   |   |   |--- class: 1\n",
      "|   |   |   |--- services_opted >  2.50\n",
      "|   |   |   |   |--- services_opted <= 3.50\n",
      "|   |   |   |   |   |--- class: 0\n",
      "|   |   |   |   |--- services_opted >  3.50\n",
      "|   |   |   |   |   |--- booked_hotel_no <= 0.50\n",
      "|   |   |   |   |   |   |--- services_opted <= 5.50\n",
      "|   |   |   |   |   |   |   |--- class: 0\n",
      "|   |   |   |   |   |   |--- services_opted >  5.50\n",
      "|   |   |   |   |   |   |   |--- class: 1\n",
      "|   |   |   |   |   |--- booked_hotel_no >  0.50\n",
      "|   |   |   |   |   |   |--- age <= 27.50\n",
      "|   |   |   |   |   |   |   |--- class: 1\n",
      "|   |   |   |   |   |   |--- age >  27.50\n",
      "|   |   |   |   |   |   |   |--- class: 0\n",
      "|   |--- age >  28.50\n",
      "|   |   |--- annual_income_class_middle income <= 0.50\n",
      "|   |   |   |--- services_opted <= 1.50\n",
      "|   |   |   |   |--- class: 0\n",
      "|   |   |   |--- services_opted >  1.50\n",
      "|   |   |   |   |--- account_synced_no <= 0.50\n",
      "|   |   |   |   |   |--- services_opted <= 2.50\n",
      "|   |   |   |   |   |   |--- age <= 30.50\n",
      "|   |   |   |   |   |   |   |--- class: 1\n",
      "|   |   |   |   |   |   |--- age >  30.50\n",
      "|   |   |   |   |   |   |   |--- class: 1\n",
      "|   |   |   |   |   |--- services_opted >  2.50\n",
      "|   |   |   |   |   |   |--- age <= 36.00\n",
      "|   |   |   |   |   |   |   |--- class: 0\n",
      "|   |   |   |   |   |   |--- age >  36.00\n",
      "|   |   |   |   |   |   |   |--- class: 1\n",
      "|   |   |   |   |--- account_synced_no >  0.50\n",
      "|   |   |   |   |   |--- age <= 36.50\n",
      "|   |   |   |   |   |   |--- class: 0\n",
      "|   |   |   |   |   |--- age >  36.50\n",
      "|   |   |   |   |   |   |--- class: 0\n",
      "|   |   |--- annual_income_class_middle income >  0.50\n",
      "|   |   |   |--- services_opted <= 4.50\n",
      "|   |   |   |   |--- class: 0\n",
      "|   |   |   |--- services_opted >  4.50\n",
      "|   |   |   |   |--- age <= 34.50\n",
      "|   |   |   |   |   |--- class: 0\n",
      "|   |   |   |   |--- age >  34.50\n",
      "|   |   |   |   |   |--- services_opted <= 5.50\n",
      "|   |   |   |   |   |   |--- class: 1\n",
      "|   |   |   |   |   |--- services_opted >  5.50\n",
      "|   |   |   |   |   |   |--- age <= 36.50\n",
      "|   |   |   |   |   |   |   |--- class: 0\n",
      "|   |   |   |   |   |   |--- age >  36.50\n",
      "|   |   |   |   |   |   |   |--- class: 0\n",
      "|--- frequent_flyer_yes >  0.50\n",
      "|   |--- age <= 28.50\n",
      "|   |   |--- class: 1\n",
      "|   |--- age >  28.50\n",
      "|   |   |--- account_synced_yes <= 0.50\n",
      "|   |   |   |--- annual_income_class_low income <= 0.50\n",
      "|   |   |   |   |--- services_opted <= 5.50\n",
      "|   |   |   |   |   |--- booked_hotel_no <= 0.50\n",
      "|   |   |   |   |   |   |--- class: 0\n",
      "|   |   |   |   |   |--- booked_hotel_no >  0.50\n",
      "|   |   |   |   |   |   |--- age <= 36.50\n",
      "|   |   |   |   |   |   |   |--- class: 1\n",
      "|   |   |   |   |   |   |--- age >  36.50\n",
      "|   |   |   |   |   |   |   |--- class: 0\n",
      "|   |   |   |   |--- services_opted >  5.50\n",
      "|   |   |   |   |   |--- class: 1\n",
      "|   |   |   |--- annual_income_class_low income >  0.50\n",
      "|   |   |   |   |--- services_opted <= 2.50\n",
      "|   |   |   |   |   |--- class: 0\n",
      "|   |   |   |   |--- services_opted >  2.50\n",
      "|   |   |   |   |   |--- services_opted <= 3.50\n",
      "|   |   |   |   |   |   |--- class: 1\n",
      "|   |   |   |   |   |--- services_opted >  3.50\n",
      "|   |   |   |   |   |   |--- age <= 34.50\n",
      "|   |   |   |   |   |   |   |--- class: 0\n",
      "|   |   |   |   |   |   |--- age >  34.50\n",
      "|   |   |   |   |   |   |   |--- class: 0\n",
      "|   |   |--- account_synced_yes >  0.50\n",
      "|   |   |   |--- services_opted <= 2.50\n",
      "|   |   |   |   |--- age <= 32.00\n",
      "|   |   |   |   |   |--- annual_income_class_high income <= 0.50\n",
      "|   |   |   |   |   |   |--- class: 1\n",
      "|   |   |   |   |   |--- annual_income_class_high income >  0.50\n",
      "|   |   |   |   |   |   |--- age <= 30.50\n",
      "|   |   |   |   |   |   |   |--- class: 0\n",
      "|   |   |   |   |   |   |--- age >  30.50\n",
      "|   |   |   |   |   |   |   |--- class: 0\n",
      "|   |   |   |   |--- age >  32.00\n",
      "|   |   |   |   |   |--- age <= 36.50\n",
      "|   |   |   |   |   |   |--- age <= 34.50\n",
      "|   |   |   |   |   |   |   |--- class: 0\n",
      "|   |   |   |   |   |   |--- age >  34.50\n",
      "|   |   |   |   |   |   |   |--- class: 0\n",
      "|   |   |   |   |   |--- age >  36.50\n",
      "|   |   |   |   |   |   |--- annual_income_class_high income <= 0.50\n",
      "|   |   |   |   |   |   |   |--- class: 0\n",
      "|   |   |   |   |   |   |--- annual_income_class_high income >  0.50\n",
      "|   |   |   |   |   |   |   |--- class: 1\n",
      "|   |   |   |--- services_opted >  2.50\n",
      "|   |   |   |   |--- annual_income_class_high income <= 0.50\n",
      "|   |   |   |   |   |--- class: 1\n",
      "|   |   |   |   |--- annual_income_class_high income >  0.50\n",
      "|   |   |   |   |   |--- class: 0\n",
      "\n"
     ]
    }
   ],
   "source": [
    "text_representation = tree.export_text(model, feature_names=tuple(X.columns))\n",
    "print(text_representation)"
   ]
  },
  {
   "cell_type": "markdown",
   "id": "f6829f56",
   "metadata": {},
   "source": [
    "## Além do que foi explorado\n",
    "___"
   ]
  },
  {
   "cell_type": "markdown",
   "id": "c81ae09e",
   "metadata": {},
   "source": [
    "Este projeto de Machine Learning foi feito focado principalmente em encontrar um modelo que conseguisse classificar os clientes que estão propensos a cancelarem sua assinatura em uma empresa de viagem e turismo. Após uma análise inicial, o _Decision Tree Classifier_ foi escolhido para uma análise mais profunda e otimização, com o intuito de melhorar o modelo e prevenir overfitting. Porém isso não quer dizer que outros algoritmos não funcionem semelhantemente ou até melhor do que o desenvolvido.  \n",
    "Há várias possibilidades com os algoritmos citados e isso pode ser explorado, como por exemplo uma comparação entre o algoritmo _Decision Tree Classifier_ e o _Random Forest Classifier_, já que possuem um comportamento muito semelhante.  \n",
    "Outro ponto é que se pode tentar balancear as classes com técnicas de oversampling ou undersampling, e analisar como os modelos se comportam."
   ]
  },
  {
   "cell_type": "code",
   "execution_count": null,
   "id": "9d310ce1",
   "metadata": {},
   "outputs": [],
   "source": []
  }
 ],
 "metadata": {
  "kernelspec": {
   "display_name": "Python 3 (ipykernel)",
   "language": "python",
   "name": "python3"
  },
  "language_info": {
   "codemirror_mode": {
    "name": "ipython",
    "version": 3
   },
   "file_extension": ".py",
   "mimetype": "text/x-python",
   "name": "python",
   "nbconvert_exporter": "python",
   "pygments_lexer": "ipython3",
   "version": "3.9.7"
  }
 },
 "nbformat": 4,
 "nbformat_minor": 5
}
